{
 "cells": [
  {
   "cell_type": "markdown",
   "metadata": {
    "id": "xurEXV5u8rHz"
   },
   "source": [
    "# **NEURAL NETWORK IMPLEMENTATION**"
   ]
  },
  {
   "cell_type": "code",
   "execution_count": null,
   "metadata": {
    "colab": {
     "base_uri": "https://localhost:8080/"
    },
    "executionInfo": {
     "elapsed": 15870,
     "status": "ok",
     "timestamp": 1701072756187,
     "user": {
      "displayName": "Prince Kumar",
      "userId": "15807791891892704311"
     },
     "user_tz": -330
    },
    "id": "ShyFet_HdUq8",
    "outputId": "f4b0d932-8c13-405c-d6e1-3b5bd323b0eb"
   },
   "outputs": [
    {
     "name": "stdout",
     "output_type": "stream",
     "text": [
      "Drive already mounted at /content/drive; to attempt to forcibly remount, call drive.mount(\"/content/drive\", force_remount=True).\n"
     ]
    }
   ],
   "source": [
    "# from google.colab import drive\n",
    "# drive.mount('/content/drive')"
   ]
  },
  {
   "cell_type": "markdown",
   "metadata": {
    "id": "px_vH6FC9HMC"
   },
   "source": [
    "## Importing Libraries and loading data\n"
   ]
  },
  {
   "cell_type": "code",
   "execution_count": 11,
   "metadata": {
    "executionInfo": {
     "elapsed": 519,
     "status": "ok",
     "timestamp": 1701074673245,
     "user": {
      "displayName": "Prince Kumar",
      "userId": "15807791891892704311"
     },
     "user_tz": -330
    },
    "id": "BdG5Omtm9SEs"
   },
   "outputs": [],
   "source": [
    "import numpy as np\n",
    "import pandas as pd\n",
    "import warnings\n",
    "from sklearn.metrics import precision_score, recall_score, f1_score\n",
    "from sklearn.model_selection import train_test_split\n",
    "from sklearn.preprocessing import StandardScaler, LabelEncoder\n",
    "import matplotlib.pyplot as plt\n",
    "from sklearn.preprocessing import MinMaxScaler\n",
    "\n",
    "# Load the preprocessed dataset\n",
    "preprocessed_path = \"C:/Users/Roshan/Downloads/Neural/white_wine_dataset.csv\"\n",
    "preprocessed_df = pd.read_csv(preprocessed_path)\n",
    "\n",
    "\n",
    "\n",
    "# Extract features and target variable\n",
    "X = preprocessed_df.drop('quality', axis=1)\n",
    "y = preprocessed_df['quality']\n",
    "\n",
    "\n",
    "# Create a MinMaxScaler object\n",
    "scaler = MinMaxScaler()\n",
    "# Fit and transform the data using the scaler\n",
    "X = scaler.fit_transform(X)\n",
    "\n",
    "# Split the dataset into training and testing sets\n",
    "X_train, X_test, y_train, y_test = train_test_split(X, y, test_size=0.2, random_state=42)\n",
    "\n",
    "# Initialize the label encoder\n",
    "label_encoder = LabelEncoder()\n",
    "\n",
    "# Encode target variables\n",
    "y_train_encoded = label_encoder.fit_transform(y_train)\n",
    "y_test_encoded = label_encoder.transform(y_test)\n",
    "\n",
    "# # Standardize features\n",
    "# scaler = StandardScaler()\n",
    "# X_train = scaler.fit_transform(X_train)\n",
    "# X_test = scaler.transform(X_test)\n",
    "\n",
    "\n",
    "# Convert to NumPy arrays\n",
    "X_train = np.array(X_train)\n",
    "X_test = np.array(X_test)\n",
    "y_train = np.array(y_train)\n",
    "y_test = np.array(y_test)\n",
    "\n",
    "# Ensure y_train has the correct shape\n",
    "y_train = y_train.reshape(-1, 1)\n",
    "# X_train\n"
   ]
  },
  {
   "cell_type": "code",
   "execution_count": 12,
   "metadata": {
    "executionInfo": {
     "elapsed": 6,
     "status": "ok",
     "timestamp": 1701074675361,
     "user": {
      "displayName": "Prince Kumar",
      "userId": "15807791891892704311"
     },
     "user_tz": -330
    },
    "id": "fHMJT03D9ifC"
   },
   "outputs": [
    {
     "data": {
      "text/plain": [
       "array([[0.33653846, 0.08823529, 0.21686747, ..., 0.38181818, 0.22093023,\n",
       "        0.70967742],\n",
       "       [0.24038462, 0.16666667, 0.26506024, ..., 0.41818182, 0.34883721,\n",
       "        0.24193548],\n",
       "       [0.17307692, 0.23529412, 0.19879518, ..., 0.48181818, 0.31395349,\n",
       "        0.5       ],\n",
       "       ...,\n",
       "       [0.36538462, 0.18627451, 0.31325301, ..., 0.27272727, 0.36046512,\n",
       "        0.5483871 ],\n",
       "       [0.24038462, 0.15686275, 0.1746988 , ..., 0.40909091, 0.18604651,\n",
       "        0.41935484],\n",
       "       [0.41346154, 0.18627451, 0.21084337, ..., 0.45454545, 0.47674419,\n",
       "        0.38709677]])"
      ]
     },
     "execution_count": 12,
     "metadata": {},
     "output_type": "execute_result"
    }
   ],
   "source": [
    "X_train"
   ]
  },
  {
   "cell_type": "markdown",
   "metadata": {
    "id": "RkPg5vh89lKp"
   },
   "source": [
    "## Neural Network Implementation"
   ]
  },
  {
   "cell_type": "code",
   "execution_count": 13,
   "metadata": {
    "executionInfo": {
     "elapsed": 537,
     "status": "ok",
     "timestamp": 1701075193649,
     "user": {
      "displayName": "Prince Kumar",
      "userId": "15807791891892704311"
     },
     "user_tz": -330
    },
    "id": "Y3p5-3769qVO"
   },
   "outputs": [],
   "source": [
    "# Convert labels to one-hot encoding\n",
    "def one_hot_encoding(labels, num_classes):\n",
    "    one_hot_labels = np.zeros((len(labels), num_classes))\n",
    "    for i, label in enumerate(labels):\n",
    "        # Check if the label is within the valid range\n",
    "        if 0 <= label < num_classes:\n",
    "            one_hot_labels[i, label] = 1\n",
    "    return one_hot_labels\n",
    "\n",
    "\n",
    "# Define neural network parameters\n",
    "input_size = X_train.shape[1]\n",
    "hidden_size = 128\n",
    "output_size = len(np.unique(y_train))\n",
    "learning_rate = 0.0008\n",
    "epochs = 1000\n",
    "\n",
    "# # Initialize weights and biases\n",
    "# np.random.seed(42)\n",
    "# weights_input_hidden = np.random.randn(input_size, hidden_size)\n",
    "# bias_hidden = np.zeros((1, hidden_size))\n",
    "# weights_hidden_output = np.random.randn(hidden_size, output_size)\n",
    "# bias_output = np.zeros((1, output_size))\n",
    "\n",
    "# Initialize weights and biases for the first hidden layer\n",
    "np.random.seed(42)\n",
    "weights_input_hidden1 = np.random.randn(input_size, hidden_size)\n",
    "# print(weights_input_hidden1)\n",
    "bias_hidden1 = np.zeros((1, hidden_size))\n",
    "\n",
    "# Initialize weights and biases for the second hidden layer\n",
    "# weights_hidden1_hidden2 = np.random.randn(hidden_size, hidden_size)\n",
    "# bias_hidden2 = np.zeros((1, hidden_size))\n",
    "\n",
    "# Initialize weights and biases for the output layer\n",
    "weights_hidden2_output = np.random.randn(hidden_size, output_size)\n",
    "bias_output = np.zeros((1, output_size))\n",
    "\n",
    "# Define activation functions\n",
    "def tanh(x):\n",
    "    return np.tanh(x)\n",
    "\n",
    "# def relu(x):\n",
    "#     return np.maximum(0, x)\n",
    "\n",
    "# def leaky_relu(x, leaky_alpha=0.01):\n",
    "#     return np.where(x > 0, x, leaky_alpha * x)\n",
    "\n",
    "def sigmoid(x):\n",
    "  with warnings.catch_warnings():\n",
    "    warnings.filterwarnings(\"ignore\", category=RuntimeWarning)\n",
    "    return 1 / (1 + np.exp(-x))\n",
    "\n",
    "def softmax(x):\n",
    "    exp_x = np.exp(x - np.max(x, axis=1, keepdims=True))\n",
    "    return exp_x / np.sum(exp_x, axis=1, keepdims=True)\n"
   ]
  },
  {
   "cell_type": "code",
   "execution_count": 14,
   "metadata": {
    "executionInfo": {
     "elapsed": 6,
     "status": "ok",
     "timestamp": 1701074682447,
     "user": {
      "displayName": "Prince Kumar",
      "userId": "15807791891892704311"
     },
     "user_tz": -330
    },
    "id": "UxX_rssu9sD7"
   },
   "outputs": [],
   "source": [
    "# print(input_size,output_size)"
   ]
  },
  {
   "cell_type": "markdown",
   "metadata": {
    "id": "6BaYgIwr9ufG"
   },
   "source": [
    "## Training the Neural Network"
   ]
  },
  {
   "cell_type": "code",
   "execution_count": 15,
   "metadata": {
    "executionInfo": {
     "elapsed": 826,
     "status": "ok",
     "timestamp": 1701074855100,
     "user": {
      "displayName": "Prince Kumar",
      "userId": "15807791891892704311"
     },
     "user_tz": -330
    },
    "id": "463Vdz8J9zcK"
   },
   "outputs": [],
   "source": [
    "# # Convert labels to one-hot encoding\n",
    "# num_classes = len(np.unique(y_train))\n",
    "# y_train_one_hot = one_hot_encoding(y_train, num_classes)\n",
    "# y_test_one_hot = one_hot_encoding(y_test, num_classes)\n",
    "\n",
    "# # Training the model\n",
    "# training_losses = []\n",
    "# training_accuracies = []\n",
    "# test_losses = []\n",
    "# test_accuracies = []\n",
    "# result_filename = f'/content/drive/MyDrive/Neural Network Soft Computing Assignment/Plots/Adam/Hidden layer 2/results{epochs}_lr{learning_rate}_Hidden_size{hidden_size}.txt'\n",
    "\n",
    "\n",
    "# # Initialize parameters for RMSProp\n",
    "# beta = 0.9\n",
    "# beta1 = 0.99\n",
    "# epsilon = 1e-8\n",
    "\n",
    "# m_hidden1 = np.zeros_like(weights_input_hidden1)\n",
    "\n",
    "# m_hidden2 = np.zeros_like(weights_hidden1_hidden2)\n",
    "\n",
    "# m_output = np.zeros_like(weights_hidden2_output)\n",
    "\n",
    "# r_hidden1 = np.zeros_like(weights_input_hidden1)\n",
    "# # Manually assign dimensions to r_hidden1\n",
    "# # r_hidden1 = np.zeros((5197, 8))\n",
    "# # print(r_hidden1)\n",
    "# r_hidden2 = np.zeros_like(weights_hidden1_hidden2)\n",
    "# # r_hidden2 = np.zeros((5197, 8))\n",
    "# # print(r_hidden2)\n",
    "# r_output = np.zeros_like(weights_hidden2_output)\n",
    "# # r_output = np.zeros((5197,3))\n",
    "\n",
    "\n",
    "# for epoch in range(epochs):\n",
    "#     # Forward propagation\n",
    "#     # hidden_layer_input = np.dot(X_train, weights_input_hidden) + bias_hidden\n",
    "#     # hidden_layer_output = sigmoid(hidden_layer_input)\n",
    "#     # output_layer_input = np.dot(hidden_layer_output, weights_hidden_output) + bias_output\n",
    "#     # predicted_probabilities = softmax(output_layer_input)\n",
    "\n",
    "#     hidden1_layer_input = np.dot(X_train, weights_input_hidden1) + bias_hidden1\n",
    "#     hidden1_layer_output = sigmoid(hidden1_layer_input)\n",
    "\n",
    "#     hidden2_layer_input = np.dot(hidden1_layer_output, weights_hidden1_hidden2) + bias_hidden2\n",
    "#     hidden2_layer_output = sigmoid(hidden2_layer_input)\n",
    "\n",
    "#     output_layer_input = np.dot(hidden2_layer_output, weights_hidden2_output) + bias_output\n",
    "#     predicted_probabilities = softmax(output_layer_input)\n",
    "\n",
    "#     # # Forward propagation for test set\n",
    "#     # hidden_layer_input_test = np.dot(X_test, weights_input_hidden) + bias_hidden\n",
    "#     # hidden_layer_output_test = sigmoid(hidden_layer_input_test)\n",
    "#     # output_layer_input_test = np.dot(hidden_layer_output_test, weights_hidden_output) + bias_output\n",
    "#     # predicted_probabilities_test = softmax(output_layer_input_test)\n",
    "\n",
    "#     hidden1_layer_input_test = np.dot(X_test, weights_input_hidden1) + bias_hidden1\n",
    "#     hidden1_layer_output_test = sigmoid(hidden1_layer_input_test)\n",
    "\n",
    "#     hidden2_layer_input_test = np.dot(hidden1_layer_output_test, weights_hidden1_hidden2) + bias_hidden2\n",
    "#     hidden2_layer_output_test = sigmoid(hidden2_layer_input_test)\n",
    "\n",
    "#     output_layer_input_test = np.dot(hidden2_layer_output_test, weights_hidden2_output) + bias_output\n",
    "#     predicted_probabilities_test = softmax(output_layer_input_test)\n",
    "\n",
    "#     # Compute loss\n",
    "#     loss = -np.mean(np.sum(y_train_one_hot * np.log(predicted_probabilities), axis=1))\n",
    "#     training_losses.append(loss)\n",
    "#     # Compute test loss\n",
    "#     test_loss = -np.mean(np.sum(y_test_one_hot * np.log(predicted_probabilities_test ), axis=1))\n",
    "#     test_losses.append(test_loss)\n",
    "\n",
    "#     # Backward propagation\n",
    "#     d_output = predicted_probabilities - y_train_one_hot\n",
    "#     # print(d_output.shape)\n",
    "#     d_hidden2 = np.dot(d_output, weights_hidden2_output.T) * (hidden2_layer_output * (1 - hidden2_layer_output))\n",
    "#     # print(d_hidden2.shape)\n",
    "#     d_hidden1 = np.dot(d_hidden2, weights_hidden1_hidden2.T) * (hidden1_layer_output * (1 - hidden1_layer_output))\n",
    "#     # print(d_hidden1.shape)\n",
    "\n",
    "#     #momentum\n",
    "#     m_hidden1 = beta1 * m_hidden1 + ((1-beta1)*np.mean(np.dot(X_train.T,d_hidden1),axis =0, keepdims=True))\n",
    "#     m_hidden2 = beta1 * m_hidden2 + ((1-beta1)*np.mean(np.dot(hidden1_layer_output.T,d_hidden2),axis =0, keepdims=True))\n",
    "#     m_output = beta1 * m_output + ((1-beta1)*np.mean(np.dot(hidden2_layer_output.T,d_output),axis =0, keepdims=True))\n",
    "#     # m_hidden1 = beta1 * m_hidden1 + ((1-beta1)*np.mean((d_hidden1),axis =0, keepdims=True))\n",
    "#     # m_hidden2 = beta1 * m_hidden2 + ((1-beta1)*np.mean((d_hidden2),axis =0, keepdims=True))\n",
    "#     # m_output = beta1 * m_output + ((1-beta1)*np.mean((d_output),axis =0, keepdims=True))\n",
    "#     # Update weights and biases with RMSProp\n",
    "#     r_hidden1 = beta * r_hidden1 + ((1 - beta) * np.mean(np.square(d_hidden1), axis=0, keepdims=True))\n",
    "\n",
    "#     r_hidden2 = beta * r_hidden2 + ((1 - beta) * np.mean(np.square(d_hidden2), axis=0, keepdims =True))\n",
    "#     r_output = beta * r_output + ((1 - beta) * np.mean(np.square(d_output), axis =0, keepdims = True))\n",
    "\n",
    "#     # Update weights and biases with RMSProp\n",
    "#     weights_hidden2_output -= learning_rate * m_output/ (np.sqrt(r_output) + epsilon)\n",
    "#     # bias_output -= learning_rate * np.mean(d_output, axis=0, keepdims=True) / (np.sqrt(r_output) + epsilon)\n",
    "\n",
    "#     weights_hidden1_hidden2 -= learning_rate * m_hidden2 / (np.sqrt(r_hidden2) + epsilon)\n",
    "#     # bias_hidden2 -= learning_rate * np.mean(d_hidden2, axis=0, keepdims=True) / (np.sqrt(r_hidden2) + epsilon)\n",
    "\n",
    "#     weights_input_hidden1 -= learning_rate * m_hidden1 / (np.sqrt(r_hidden1) + epsilon)\n",
    "#     # bias_hidden1 -= learning_rate * np.mean(d_hidden1, axis=0, keepdims=True) / (np.sqrt(r_hidden1) + epsilon)\n",
    "\n",
    "\n",
    "\n",
    "\n",
    "\n",
    "#     # Calculate training accuracy\n",
    "#     train_predictions = np.argmax(predicted_probabilities, axis=1)\n",
    "#     train_accuracy = np.mean(train_predictions == y_train)\n",
    "#     training_accuracies.append(train_accuracy)\n",
    "\n",
    "\n",
    "#      # Calculate test accuracy\n",
    "#     test_predictions = np.argmax(predicted_probabilities_test, axis=1)\n",
    "#     test_accuracy = np.mean(test_predictions == y_test)\n",
    "#     test_accuracies.append(test_accuracy)\n",
    "#     precision = precision_score(y_test, test_predictions, average='weighted', zero_division=1.0)\n",
    "#     recall = recall_score(y_test, test_predictions, average='weighted', zero_division=1.0)\n",
    "#     f1 = f1_score(y_test, test_predictions, average='weighted', zero_division=1.0)\n",
    "\n",
    "\n",
    "#      # Print the loss and accuracy for every 5 epochs\n",
    "#     if (epoch + 1) % 100 == 0:\n",
    "#         result_line = (f'Epoch {epoch + 1}/{epochs},'\n",
    "#                        f'Test Precision: {precision:.4f}, '\n",
    "#                        f'Test Recall: {recall:.4f}, '\n",
    "#                        f'Test F1 Score: {f1:.4f}'\n",
    "#                    f'Training Loss: {loss}, Training Accuracy: {train_accuracy * 100:.2f}%, '\n",
    "#                    f'Test Loss: {test_loss}, Test Accuracy: {test_accuracy * 100:.2f}%')\n",
    "#         print(result_line)\n",
    "#         # Save the result to the file\n",
    "#         with open(result_filename, 'a') as result_file:\n",
    "#           result_file.write(result_line + '\\n')\n"
   ]
  },
  {
   "cell_type": "code",
   "execution_count": 16,
   "metadata": {
    "colab": {
     "background_save": true,
     "base_uri": "https://localhost:8080/"
    },
    "id": "OYZFuGv5qWQv"
   },
   "outputs": [
    {
     "name": "stdout",
     "output_type": "stream",
     "text": [
      "Epoch 100/1000,Test Precision: 0.7912, Test Recall: 0.2969, Test F1 Score: 0.1360Training Loss: 5.080712619973786, Training Accuracy: 29.76%, Test Loss: 4.837170116759335, Test Accuracy: 29.69%\n",
      "Epoch 200/1000,Test Precision: 0.7912, Test Recall: 0.2969, Test F1 Score: 0.1360Training Loss: 9.022190609050464, Training Accuracy: 29.76%, Test Loss: 8.683949625316384, Test Accuracy: 29.69%\n",
      "Epoch 300/1000,Test Precision: 0.7535, Test Recall: 0.4408, Test F1 Score: 0.2697Training Loss: 6.201347086169774, Training Accuracy: 45.07%, Test Loss: 6.033712769886439, Test Accuracy: 44.08%\n",
      "Epoch 400/1000,Test Precision: 0.7912, Test Recall: 0.2969, Test F1 Score: 0.1360Training Loss: 9.022278288918988, Training Accuracy: 29.76%, Test Loss: 8.684035204893872, Test Accuracy: 29.69%\n",
      "Epoch 500/1000,Test Precision: 0.7535, Test Recall: 0.4408, Test F1 Score: 0.2697Training Loss: 6.201337304096897, Training Accuracy: 45.07%, Test Loss: 6.033703009574707, Test Accuracy: 44.08%\n",
      "Epoch 600/1000,Test Precision: 0.7535, Test Recall: 0.4408, Test F1 Score: 0.2697Training Loss: 4.371937836123936, Training Accuracy: 45.07%, Test Loss: 4.208373172558824, Test Accuracy: 44.08%\n",
      "Epoch 700/1000,Test Precision: 0.7535, Test Recall: 0.4408, Test F1 Score: 0.2697Training Loss: 6.201347086169774, Training Accuracy: 45.07%, Test Loss: 6.033712769886439, Test Accuracy: 44.08%\n",
      "Epoch 800/1000,Test Precision: 0.7535, Test Recall: 0.4408, Test F1 Score: 0.2697Training Loss: 6.201347086169774, Training Accuracy: 45.07%, Test Loss: 6.033712769886439, Test Accuracy: 44.08%\n",
      "Epoch 900/1000,Test Precision: 0.7535, Test Recall: 0.4408, Test F1 Score: 0.2697Training Loss: 6.201347086169774, Training Accuracy: 45.07%, Test Loss: 6.033712769886439, Test Accuracy: 44.08%\n",
      "Epoch 1000/1000,Test Precision: 0.7535, Test Recall: 0.4408, Test F1 Score: 0.2697Training Loss: 6.201347086169774, Training Accuracy: 45.07%, Test Loss: 6.033712769886439, Test Accuracy: 44.08%\n"
     ]
    }
   ],
   "source": [
    "# Convert labels to one-hot encoding\n",
    "num_classes = len(np.unique(y_train))\n",
    "y_train_one_hot = one_hot_encoding(y_train, num_classes)\n",
    "y_test_one_hot = one_hot_encoding(y_test, num_classes)\n",
    "\n",
    "# Training the model\n",
    "training_losses = []\n",
    "training_accuracies = []\n",
    "test_losses = []\n",
    "test_accuracies = []\n",
    "result_filename = f'C:/Users/Roshan/Downloads/drive-download-20231129T114955Z-001/New folder/results{epochs}_lr{learning_rate}_Hidden_size{hidden_size}.txt'\n",
    "\n",
    "\n",
    "# Initialize parameters for RMSProp\n",
    "beta = 0.9\n",
    "beta1 = 0.99\n",
    "epsilon = 1e-8\n",
    "\n",
    "m_hidden1 = np.zeros_like(weights_input_hidden1)\n",
    "\n",
    "#m_hidden2 = np.zeros_like(weights_hidden1_hidden2)\n",
    "\n",
    "m_output = np.zeros_like(weights_hidden2_output)\n",
    "\n",
    "#r_hidden1 = np.zeros_like(weights_input_hidden1)\n",
    "# Manually assign dimensions to r_hidden1\n",
    "# r_hidden1 = np.zeros((5197, 8))\n",
    "# print(r_hidden1)\n",
    "r_hidden2 = np.zeros_like(weights_input_hidden1)\n",
    "# r_hidden2 = np.zeros((5197, 8))\n",
    "# print(r_hidden2)\n",
    "r_output = np.zeros_like(weights_hidden2_output)\n",
    "# r_output = np.zeros((5197,3))\n",
    "\n",
    "\n",
    "for epoch in range(epochs):\n",
    "    # Forward propagation\n",
    "    # hidden_layer_input = np.dot(X_train, weights_input_hidden) + bias_hidden\n",
    "    # hidden_layer_output = sigmoid(hidden_layer_input)\n",
    "    # output_layer_input = np.dot(hidden_layer_output, weights_hidden_output) + bias_output\n",
    "    # predicted_probabilities = softmax(output_layer_input)\n",
    "\n",
    "    hidden1_layer_input = np.dot(X_train, weights_input_hidden1) + bias_hidden1\n",
    "    hidden1_layer_output = tanh(hidden1_layer_input)\n",
    "\n",
    "    # hidden2_layer_input = np.dot(hidden1_layer_output, weights_hidden1_hidden2) + bias_hidden2\n",
    "    # hidden2_layer_output = tanh(hidden2_layer_input)\n",
    "\n",
    "    output_layer_input = np.dot(hidden1_layer_output, weights_hidden2_output) + bias_output\n",
    "    predicted_probabilities = softmax(output_layer_input)\n",
    "\n",
    "    # # Forward propagation for test set\n",
    "    # hidden_layer_input_test = np.dot(X_test, weights_input_hidden) + bias_hidden\n",
    "    # hidden_layer_output_test = sigmoid(hidden_layer_input_test)\n",
    "    # output_layer_input_test = np.dot(hidden_layer_output_test, weights_hidden_output) + bias_output\n",
    "    # predicted_probabilities_test = softmax(output_layer_input_test)\n",
    "\n",
    "    hidden1_layer_input_test = np.dot(X_test, weights_input_hidden1) + bias_hidden1\n",
    "    hidden1_layer_output_test = tanh(hidden1_layer_input_test)\n",
    "\n",
    "    # hidden2_layer_input_test = np.dot(hidden1_layer_output_test, weights_hidden1_hidden2) + bias_hidden2\n",
    "    # hidden2_layer_output_test = tanh(hidden2_layer_input_test)\n",
    "\n",
    "    output_layer_input_test = np.dot(hidden1_layer_output_test, weights_hidden2_output) + bias_output\n",
    "    predicted_probabilities_test = softmax(output_layer_input_test)\n",
    "\n",
    "    # Compute loss\n",
    "    loss = -np.mean(np.sum(y_train_one_hot * np.log(predicted_probabilities+ epsilon), axis=1))\n",
    "    training_losses.append(loss)\n",
    "    # Compute test loss\n",
    "    test_loss = -np.mean(np.sum(y_test_one_hot * np.log(predicted_probabilities_test + epsilon), axis=1))\n",
    "    test_losses.append(test_loss)\n",
    "\n",
    "    # Backward propagation\n",
    "    d_output = predicted_probabilities - y_train_one_hot\n",
    "    # print(d_output.shape)\n",
    "    d_hidden2 = np.dot(d_output, weights_hidden2_output.T) * (hidden1_layer_output * (1 - hidden1_layer_output))\n",
    "    # print(d_hidden2.shape)\n",
    "    #d_hidden1 = np.dot(d_hidden2, weights_hidden1_hidden2.T) * (hidden1_layer_output * (1 - hidden1_layer_output))\n",
    "    # print(d_hidden1.shape)\n",
    "\n",
    "    #momentum\n",
    "    m_hidden1 = beta1 * m_hidden1 + ((1-beta1)*np.mean(np.dot(X_train.T,d_hidden2),axis =0, keepdims=True))\n",
    "    #m_hidden2 = beta1 * m_hidden2 + ((1-beta1)*np.mean(np.dot(hidden1_layer_output.T,d_hidden2),axis =0, keepdims=True))\n",
    "    m_output = beta1 * m_output + ((1-beta1)*np.mean(np.dot(hidden1_layer_output.T,d_output),axis =0, keepdims=True))\n",
    "    # m_hidden1 = beta1 * m_hidden1 + ((1-beta1)*np.mean((d_hidden1),axis =0, keepdims=True))\n",
    "    # m_hidden2 = beta1 * m_hidden2 + ((1-beta1)*np.mean((d_hidden2),axis =0, keepdims=True))\n",
    "    # m_output = beta1 * m_output + ((1-beta1)*np.mean((d_output),axis =0, keepdims=True))\n",
    "    # Update weights and biases with RMSProp\n",
    "    #r_hidden1 = beta * r_hidden1 + ((1 - beta) * np.mean(np.square(d_hidden1), axis=0, keepdims=True))\n",
    "\n",
    "    r_hidden2 = beta * r_hidden2 + ((1 - beta) * np.mean(np.square(d_hidden2), axis=0, keepdims =True))\n",
    "    r_output = beta * r_output + ((1 - beta) * np.mean(np.square(d_output), axis =0, keepdims = True))\n",
    "\n",
    "    # Update weights and biases with RMSProp\n",
    "    weights_hidden2_output -= learning_rate * m_output/ (np.sqrt(r_output) + epsilon)\n",
    "    # bias_output -= learning_rate * np.mean(d_output, axis=0, keepdims=True) / (np.sqrt(r_output) + epsilon)\n",
    "\n",
    "    #weights_hidden1_hidden2 -= learning_rate * m_hidden2 / (np.sqrt(r_hidden2) + epsilon)\n",
    "    # bias_hidden2 -= learning_rate * np.mean(d_hidden2, axis=0, keepdims=True) / (np.sqrt(r_hidden2) + epsilon)\n",
    "\n",
    "    weights_input_hidden1 -= learning_rate * m_hidden1 / (np.sqrt(r_hidden2) + epsilon)\n",
    "    # bias_hidden1 -= learning_rate * np.mean(d_hidden1, axis=0, keepdims=True) / (np.sqrt(r_hidden1) + epsilon)\n",
    "\n",
    "\n",
    "\n",
    "\n",
    "\n",
    "    # Calculate training accuracy\n",
    "    train_predictions = np.argmax(predicted_probabilities, axis=1)\n",
    "    train_accuracy = np.mean(train_predictions == y_train)\n",
    "    training_accuracies.append(train_accuracy)\n",
    "\n",
    "\n",
    "     # Calculate test accuracy\n",
    "    test_predictions = np.argmax(predicted_probabilities_test, axis=1)\n",
    "    test_accuracy = np.mean(test_predictions == y_test)\n",
    "    test_accuracies.append(test_accuracy)\n",
    "    precision = precision_score(y_test, test_predictions, average='weighted', zero_division=1.0)\n",
    "    recall = recall_score(y_test, test_predictions, average='weighted', zero_division=1.0)\n",
    "    f1 = f1_score(y_test, test_predictions, average='weighted', zero_division=1.0)\n",
    "\n",
    "\n",
    "     # Print the loss and accuracy for every 5 epochs\n",
    "    if (epoch + 1) % 100 == 0:\n",
    "        result_line = (f'Epoch {epoch + 1}/{epochs},'\n",
    "                       f'Test Precision: {precision:.4f}, '\n",
    "                       f'Test Recall: {recall:.4f}, '\n",
    "                       f'Test F1 Score: {f1:.4f}'\n",
    "                   f'Training Loss: {loss}, Training Accuracy: {train_accuracy * 100:.2f}%, '\n",
    "                   f'Test Loss: {test_loss}, Test Accuracy: {test_accuracy * 100:.2f}%')\n",
    "        print(result_line)\n",
    "        # Save the result to the file\n",
    "        with open(result_filename, 'a') as result_file:\n",
    "          result_file.write(result_line + '\\n')\n"
   ]
  },
  {
   "cell_type": "code",
   "execution_count": null,
   "metadata": {
    "id": "khYOHT1VwEIx"
   },
   "outputs": [],
   "source": [
    "# # Convert labels to one-hot encoding\n",
    "# num_classes = len(np.unique(y_train))\n",
    "# y_train_one_hot = one_hot_encoding(y_train, num_classes)\n",
    "# y_test_one_hot = one_hot_encoding(y_test, num_classes)\n",
    "\n",
    "# # Training the model using tanh activation function\n",
    "# training_losses = []\n",
    "# training_accuracies = []\n",
    "# test_losses = []\n",
    "# test_accuracies = []\n",
    "\n",
    "# for epoch in range(epochs):\n",
    "#     # Forward propagation\n",
    "#     # hidden_layer_input = np.dot(X_train, weights_input_hidden) + bias_hidden\n",
    "#     # hidden_layer_output = sigmoid(hidden_layer_input)\n",
    "#     # output_layer_input = np.dot(hidden_layer_output, weights_hidden_output) + bias_output\n",
    "#     # predicted_probabilities = softmax(output_layer_input)\n",
    "\n",
    "#     hidden1_layer_input = np.dot(X_train, weights_input_hidden1) + bias_hidden1\n",
    "#     hidden1_layer_output = leaky_relu(hidden1_layer_input)\n",
    "\n",
    "#     hidden2_layer_input = np.dot(hidden1_layer_output, weights_hidden1_hidden2) + bias_hidden2\n",
    "#     hidden2_layer_output = leaky_relu(hidden2_layer_input)\n",
    "\n",
    "#     output_layer_input = np.dot(hidden2_layer_output, weights_hidden2_output) + bias_output\n",
    "#     predicted_probabilities = softmax(output_layer_input)\n",
    "\n",
    "#     # # Forward propagation for test set\n",
    "#     # hidden_layer_input_test = np.dot(X_test, weights_input_hidden) + bias_hidden\n",
    "#     # hidden_layer_output_test = sigmoid(hidden_layer_input_test)\n",
    "#     # output_layer_input_test = np.dot(hidden_layer_output_test, weights_hidden_output) + bias_output\n",
    "#     # predicted_probabilities_test = softmax(output_layer_input_test)\n",
    "\n",
    "#     hidden1_layer_input_test = np.dot(X_test, weights_input_hidden1) + bias_hidden1\n",
    "#     hidden1_layer_output_test = leaky_relu(hidden1_layer_input_test)\n",
    "\n",
    "#     hidden2_layer_input_test = np.dot(hidden1_layer_output_test, weights_hidden1_hidden2) + bias_hidden2\n",
    "#     hidden2_layer_output_test = leaky_relu(hidden2_layer_input_test)\n",
    "\n",
    "#     output_layer_input_test = np.dot(hidden2_layer_output_test, weights_hidden2_output) + bias_output\n",
    "#     predicted_probabilities_test = softmax(output_layer_input_test)\n",
    "\n",
    "#     # Compute loss\n",
    "#     # epsilon = 1e-10  # Small constant to avoid division by zero\n",
    "\n",
    "#     # Calculate the loss with added epsilon\n",
    "#     # loss = -np.mean(np.sum(y_train_one_hot * np.log(predicted_probabilities + epsilon), axis=1))\n",
    "\n",
    "\n",
    "#     loss = -np.mean(np.sum(y_train_one_hot * np.log(predicted_probabilities), axis=1))\n",
    "#     training_losses.append(loss)\n",
    "#     # Compute test loss\n",
    "#     test_loss = -np.mean(np.sum(y_test_one_hot * np.log(predicted_probabilities_test), axis=1))\n",
    "#     test_losses.append(test_loss)\n",
    "\n",
    "#     # # Backward propagation\n",
    "#     # d_output = predicted_probabilities - y_train_one_hot\n",
    "#     # d_hidden = np.dot(d_output, weights_hidden_output.T) * (hidden_layer_output * (1 - hidden_layer_output))\n",
    "\n",
    "#     d_output = predicted_probabilities - y_train_one_hot\n",
    "#     d_hidden2 = np.dot(d_output, weights_hidden2_output.T) * (hidden2_layer_output * (1 - hidden2_layer_output))\n",
    "#     d_hidden1 = np.dot(d_hidden2, weights_hidden1_hidden2.T) * (hidden1_layer_output * (1 - hidden1_layer_output))\n",
    "\n",
    "\n",
    "#     # # Update weights and biases\n",
    "#     # weights_hidden_output -= learning_rate * np.dot(hidden_layer_output.T, d_output)\n",
    "#     # bias_output -= learning_rate * np.sum(d_output, axis=0, keepdims=True)\n",
    "#     # weights_input_hidden -= learning_rate * np.dot(X_train.T, d_hidden)\n",
    "#     # bias_hidden -= learning_rate * np.sum(d_hidden, axis=0, keepdims=True)\n",
    "\n",
    "#     # Update weights and biases\n",
    "#     weights_hidden2_output -= learning_rate * np.dot(hidden2_layer_output.T, d_output)\n",
    "#     bias_output -= learning_rate * np.sum(d_output, axis=0, keepdims=True)\n",
    "\n",
    "#     weights_hidden1_hidden2 -= learning_rate * np.dot(hidden1_layer_output.T, d_hidden2)\n",
    "#     bias_hidden2 -= learning_rate * np.sum(d_hidden2, axis=0, keepdims=True)\n",
    "\n",
    "#     weights_input_hidden1 -= learning_rate * np.dot(X_train.T, d_hidden1)\n",
    "#     bias_hidden1 -= learning_rate * np.sum(d_hidden1, axis=0, keepdims=True)\n",
    "\n",
    "\n",
    "#     # Calculate training accuracy\n",
    "#     train_predictions = np.argmax(predicted_probabilities, axis=1)\n",
    "#     train_accuracy = np.mean(train_predictions == y_train)\n",
    "#     training_accuracies.append(train_accuracy)\n",
    "#      # Calculate test accuracy\n",
    "#     test_predictions = np.argmax(predicted_probabilities_test, axis=1)\n",
    "#     test_accuracy = np.mean(test_predictions == y_test)\n",
    "#     test_accuracies.append(test_accuracy)\n",
    "\n",
    "\n",
    "#     result_filename = '/content/drive/MyDrive/Neural Network Soft Computing Assignment/Plots/Hidden layer 2 -ReLU/results.txt'\n",
    "\n",
    "# # ...\n",
    "\n",
    "#     # Inside your training loop\n",
    "#     if (epoch + 1) % 100 == 0:\n",
    "#       result_line = (f'Epoch {epoch + 1}/{epochs}, '\n",
    "#                    f'Training Loss: {loss}, Training Accuracy: {train_accuracy * 100:.2f}%, '\n",
    "#                    f'Test Loss: {test_loss}, Test Accuracy: {test_accuracy * 100:.2f}%')\n",
    "#       print(result_line)\n",
    "#       # Save the result to the file\n",
    "#       with open(result_filename, 'a') as result_file:\n",
    "#         result_file.write(result_line + '\\n')\n"
   ]
  },
  {
   "cell_type": "code",
   "execution_count": 2,
   "metadata": {
    "id": "EFt01P7I91Kx"
   },
   "outputs": [],
   "source": [
    "# training_losses"
   ]
  },
  {
   "cell_type": "markdown",
   "metadata": {
    "id": "jHgwNtQp-esv"
   },
   "source": [
    "## Plotting Training Loss and Accuracy"
   ]
  },
  {
   "cell_type": "code",
   "execution_count": 17,
   "metadata": {
    "colab": {
     "base_uri": "https://localhost:8080/",
     "height": 1000
    },
    "executionInfo": {
     "elapsed": 2185,
     "status": "ok",
     "timestamp": 1701074074316,
     "user": {
      "displayName": "Prince Kumar",
      "userId": "15807791891892704311"
     },
     "user_tz": -330
    },
    "id": "MMxhjOZd-g11",
    "outputId": "547a2813-7a31-4447-d76c-4ce066fbac4b"
   },
   "outputs": [
    {
     "ename": "FileNotFoundError",
     "evalue": "[Errno 2] No such file or directory: '/content/drive/MyDrive/Neural Network Soft Computing Assignment/Plots/Adam/Hidden layer 2/training_loss_plot_epochs1000_lr0.0008_Hidden_size128.png'",
     "output_type": "error",
     "traceback": [
      "\u001b[1;31m---------------------------------------------------------------------------\u001b[0m",
      "\u001b[1;31mFileNotFoundError\u001b[0m                         Traceback (most recent call last)",
      "Cell \u001b[1;32mIn[17], line 12\u001b[0m\n\u001b[0;32m      7\u001b[0m plt\u001b[38;5;241m.\u001b[39mannotate(\u001b[38;5;124mf\u001b[39m\u001b[38;5;124m'\u001b[39m\u001b[38;5;124mLR=\u001b[39m\u001b[38;5;132;01m{\u001b[39;00mlearning_rate\u001b[38;5;132;01m}\u001b[39;00m\u001b[38;5;124m, Hidden Size=\u001b[39m\u001b[38;5;132;01m{\u001b[39;00mhidden_size\u001b[38;5;132;01m}\u001b[39;00m\u001b[38;5;124m'\u001b[39m, xy\u001b[38;5;241m=\u001b[39m(\u001b[38;5;241m0.5\u001b[39m, \u001b[38;5;241m0\u001b[39m), xytext\u001b[38;5;241m=\u001b[39m(\u001b[38;5;241m0.5\u001b[39m, \u001b[38;5;241m-\u001b[39m\u001b[38;5;241m0.15\u001b[39m),\n\u001b[0;32m      8\u001b[0m              xycoords\u001b[38;5;241m=\u001b[39m\u001b[38;5;124m'\u001b[39m\u001b[38;5;124maxes fraction\u001b[39m\u001b[38;5;124m'\u001b[39m, textcoords\u001b[38;5;241m=\u001b[39m\u001b[38;5;124m'\u001b[39m\u001b[38;5;124maxes fraction\u001b[39m\u001b[38;5;124m'\u001b[39m,\n\u001b[0;32m      9\u001b[0m              fontsize\u001b[38;5;241m=\u001b[39m\u001b[38;5;241m8\u001b[39m, ha\u001b[38;5;241m=\u001b[39m\u001b[38;5;124m'\u001b[39m\u001b[38;5;124mcenter\u001b[39m\u001b[38;5;124m'\u001b[39m, va\u001b[38;5;241m=\u001b[39m\u001b[38;5;124m'\u001b[39m\u001b[38;5;124mcenter\u001b[39m\u001b[38;5;124m'\u001b[39m, color\u001b[38;5;241m=\u001b[39m\u001b[38;5;124m'\u001b[39m\u001b[38;5;124mred\u001b[39m\u001b[38;5;124m'\u001b[39m)\n\u001b[0;32m     11\u001b[0m loss_plot_filename \u001b[38;5;241m=\u001b[39m \u001b[38;5;124mf\u001b[39m\u001b[38;5;124m'\u001b[39m\u001b[38;5;124m/content/drive/MyDrive/Neural Network Soft Computing Assignment/Plots/Adam/Hidden layer 2/training_loss_plot_epochs\u001b[39m\u001b[38;5;132;01m{\u001b[39;00mepochs\u001b[38;5;132;01m}\u001b[39;00m\u001b[38;5;124m_lr\u001b[39m\u001b[38;5;132;01m{\u001b[39;00mlearning_rate\u001b[38;5;132;01m}\u001b[39;00m\u001b[38;5;124m_Hidden_size\u001b[39m\u001b[38;5;132;01m{\u001b[39;00mhidden_size\u001b[38;5;132;01m}\u001b[39;00m\u001b[38;5;124m.png\u001b[39m\u001b[38;5;124m'\u001b[39m\n\u001b[1;32m---> 12\u001b[0m plt\u001b[38;5;241m.\u001b[39msavefig(loss_plot_filename)\n\u001b[0;32m     13\u001b[0m plt\u001b[38;5;241m.\u001b[39mshow()\n\u001b[0;32m     15\u001b[0m \u001b[38;5;66;03m# Plot Test Loss vs. Epochs\u001b[39;00m\n",
      "File \u001b[1;32mC:\\anaconda\\Lib\\site-packages\\matplotlib\\pyplot.py:1119\u001b[0m, in \u001b[0;36msavefig\u001b[1;34m(*args, **kwargs)\u001b[0m\n\u001b[0;32m   1116\u001b[0m fig \u001b[38;5;241m=\u001b[39m gcf()\n\u001b[0;32m   1117\u001b[0m \u001b[38;5;66;03m# savefig default implementation has no return, so mypy is unhappy\u001b[39;00m\n\u001b[0;32m   1118\u001b[0m \u001b[38;5;66;03m# presumably this is here because subclasses can return?\u001b[39;00m\n\u001b[1;32m-> 1119\u001b[0m res \u001b[38;5;241m=\u001b[39m fig\u001b[38;5;241m.\u001b[39msavefig(\u001b[38;5;241m*\u001b[39margs, \u001b[38;5;241m*\u001b[39m\u001b[38;5;241m*\u001b[39mkwargs)  \u001b[38;5;66;03m# type: ignore[func-returns-value]\u001b[39;00m\n\u001b[0;32m   1120\u001b[0m fig\u001b[38;5;241m.\u001b[39mcanvas\u001b[38;5;241m.\u001b[39mdraw_idle()  \u001b[38;5;66;03m# Need this if 'transparent=True', to reset colors.\u001b[39;00m\n\u001b[0;32m   1121\u001b[0m \u001b[38;5;28;01mreturn\u001b[39;00m res\n",
      "File \u001b[1;32mC:\\anaconda\\Lib\\site-packages\\matplotlib\\figure.py:3390\u001b[0m, in \u001b[0;36mFigure.savefig\u001b[1;34m(self, fname, transparent, **kwargs)\u001b[0m\n\u001b[0;32m   3388\u001b[0m     \u001b[38;5;28;01mfor\u001b[39;00m ax \u001b[38;5;129;01min\u001b[39;00m \u001b[38;5;28mself\u001b[39m\u001b[38;5;241m.\u001b[39maxes:\n\u001b[0;32m   3389\u001b[0m         _recursively_make_axes_transparent(stack, ax)\n\u001b[1;32m-> 3390\u001b[0m \u001b[38;5;28mself\u001b[39m\u001b[38;5;241m.\u001b[39mcanvas\u001b[38;5;241m.\u001b[39mprint_figure(fname, \u001b[38;5;241m*\u001b[39m\u001b[38;5;241m*\u001b[39mkwargs)\n",
      "File \u001b[1;32mC:\\anaconda\\Lib\\site-packages\\matplotlib\\backend_bases.py:2187\u001b[0m, in \u001b[0;36mFigureCanvasBase.print_figure\u001b[1;34m(self, filename, dpi, facecolor, edgecolor, orientation, format, bbox_inches, pad_inches, bbox_extra_artists, backend, **kwargs)\u001b[0m\n\u001b[0;32m   2183\u001b[0m \u001b[38;5;28;01mtry\u001b[39;00m:\n\u001b[0;32m   2184\u001b[0m     \u001b[38;5;66;03m# _get_renderer may change the figure dpi (as vector formats\u001b[39;00m\n\u001b[0;32m   2185\u001b[0m     \u001b[38;5;66;03m# force the figure dpi to 72), so we need to set it again here.\u001b[39;00m\n\u001b[0;32m   2186\u001b[0m     \u001b[38;5;28;01mwith\u001b[39;00m cbook\u001b[38;5;241m.\u001b[39m_setattr_cm(\u001b[38;5;28mself\u001b[39m\u001b[38;5;241m.\u001b[39mfigure, dpi\u001b[38;5;241m=\u001b[39mdpi):\n\u001b[1;32m-> 2187\u001b[0m         result \u001b[38;5;241m=\u001b[39m print_method(\n\u001b[0;32m   2188\u001b[0m             filename,\n\u001b[0;32m   2189\u001b[0m             facecolor\u001b[38;5;241m=\u001b[39mfacecolor,\n\u001b[0;32m   2190\u001b[0m             edgecolor\u001b[38;5;241m=\u001b[39medgecolor,\n\u001b[0;32m   2191\u001b[0m             orientation\u001b[38;5;241m=\u001b[39morientation,\n\u001b[0;32m   2192\u001b[0m             bbox_inches_restore\u001b[38;5;241m=\u001b[39m_bbox_inches_restore,\n\u001b[0;32m   2193\u001b[0m             \u001b[38;5;241m*\u001b[39m\u001b[38;5;241m*\u001b[39mkwargs)\n\u001b[0;32m   2194\u001b[0m \u001b[38;5;28;01mfinally\u001b[39;00m:\n\u001b[0;32m   2195\u001b[0m     \u001b[38;5;28;01mif\u001b[39;00m bbox_inches \u001b[38;5;129;01mand\u001b[39;00m restore_bbox:\n",
      "File \u001b[1;32mC:\\anaconda\\Lib\\site-packages\\matplotlib\\backend_bases.py:2043\u001b[0m, in \u001b[0;36mFigureCanvasBase._switch_canvas_and_return_print_method.<locals>.<lambda>\u001b[1;34m(*args, **kwargs)\u001b[0m\n\u001b[0;32m   2039\u001b[0m     optional_kws \u001b[38;5;241m=\u001b[39m {  \u001b[38;5;66;03m# Passed by print_figure for other renderers.\u001b[39;00m\n\u001b[0;32m   2040\u001b[0m         \u001b[38;5;124m\"\u001b[39m\u001b[38;5;124mdpi\u001b[39m\u001b[38;5;124m\"\u001b[39m, \u001b[38;5;124m\"\u001b[39m\u001b[38;5;124mfacecolor\u001b[39m\u001b[38;5;124m\"\u001b[39m, \u001b[38;5;124m\"\u001b[39m\u001b[38;5;124medgecolor\u001b[39m\u001b[38;5;124m\"\u001b[39m, \u001b[38;5;124m\"\u001b[39m\u001b[38;5;124morientation\u001b[39m\u001b[38;5;124m\"\u001b[39m,\n\u001b[0;32m   2041\u001b[0m         \u001b[38;5;124m\"\u001b[39m\u001b[38;5;124mbbox_inches_restore\u001b[39m\u001b[38;5;124m\"\u001b[39m}\n\u001b[0;32m   2042\u001b[0m     skip \u001b[38;5;241m=\u001b[39m optional_kws \u001b[38;5;241m-\u001b[39m {\u001b[38;5;241m*\u001b[39minspect\u001b[38;5;241m.\u001b[39msignature(meth)\u001b[38;5;241m.\u001b[39mparameters}\n\u001b[1;32m-> 2043\u001b[0m     print_method \u001b[38;5;241m=\u001b[39m functools\u001b[38;5;241m.\u001b[39mwraps(meth)(\u001b[38;5;28;01mlambda\u001b[39;00m \u001b[38;5;241m*\u001b[39margs, \u001b[38;5;241m*\u001b[39m\u001b[38;5;241m*\u001b[39mkwargs: meth(\n\u001b[0;32m   2044\u001b[0m         \u001b[38;5;241m*\u001b[39margs, \u001b[38;5;241m*\u001b[39m\u001b[38;5;241m*\u001b[39m{k: v \u001b[38;5;28;01mfor\u001b[39;00m k, v \u001b[38;5;129;01min\u001b[39;00m kwargs\u001b[38;5;241m.\u001b[39mitems() \u001b[38;5;28;01mif\u001b[39;00m k \u001b[38;5;129;01mnot\u001b[39;00m \u001b[38;5;129;01min\u001b[39;00m skip}))\n\u001b[0;32m   2045\u001b[0m \u001b[38;5;28;01melse\u001b[39;00m:  \u001b[38;5;66;03m# Let third-parties do as they see fit.\u001b[39;00m\n\u001b[0;32m   2046\u001b[0m     print_method \u001b[38;5;241m=\u001b[39m meth\n",
      "File \u001b[1;32mC:\\anaconda\\Lib\\site-packages\\matplotlib\\backends\\backend_agg.py:497\u001b[0m, in \u001b[0;36mFigureCanvasAgg.print_png\u001b[1;34m(self, filename_or_obj, metadata, pil_kwargs)\u001b[0m\n\u001b[0;32m    450\u001b[0m \u001b[38;5;28;01mdef\u001b[39;00m \u001b[38;5;21mprint_png\u001b[39m(\u001b[38;5;28mself\u001b[39m, filename_or_obj, \u001b[38;5;241m*\u001b[39m, metadata\u001b[38;5;241m=\u001b[39m\u001b[38;5;28;01mNone\u001b[39;00m, pil_kwargs\u001b[38;5;241m=\u001b[39m\u001b[38;5;28;01mNone\u001b[39;00m):\n\u001b[0;32m    451\u001b[0m \u001b[38;5;250m    \u001b[39m\u001b[38;5;124;03m\"\"\"\u001b[39;00m\n\u001b[0;32m    452\u001b[0m \u001b[38;5;124;03m    Write the figure to a PNG file.\u001b[39;00m\n\u001b[0;32m    453\u001b[0m \n\u001b[1;32m   (...)\u001b[0m\n\u001b[0;32m    495\u001b[0m \u001b[38;5;124;03m        *metadata*, including the default 'Software' key.\u001b[39;00m\n\u001b[0;32m    496\u001b[0m \u001b[38;5;124;03m    \"\"\"\u001b[39;00m\n\u001b[1;32m--> 497\u001b[0m     \u001b[38;5;28mself\u001b[39m\u001b[38;5;241m.\u001b[39m_print_pil(filename_or_obj, \u001b[38;5;124m\"\u001b[39m\u001b[38;5;124mpng\u001b[39m\u001b[38;5;124m\"\u001b[39m, pil_kwargs, metadata)\n",
      "File \u001b[1;32mC:\\anaconda\\Lib\\site-packages\\matplotlib\\backends\\backend_agg.py:446\u001b[0m, in \u001b[0;36mFigureCanvasAgg._print_pil\u001b[1;34m(self, filename_or_obj, fmt, pil_kwargs, metadata)\u001b[0m\n\u001b[0;32m    441\u001b[0m \u001b[38;5;250m\u001b[39m\u001b[38;5;124;03m\"\"\"\u001b[39;00m\n\u001b[0;32m    442\u001b[0m \u001b[38;5;124;03mDraw the canvas, then save it using `.image.imsave` (to which\u001b[39;00m\n\u001b[0;32m    443\u001b[0m \u001b[38;5;124;03m*pil_kwargs* and *metadata* are forwarded).\u001b[39;00m\n\u001b[0;32m    444\u001b[0m \u001b[38;5;124;03m\"\"\"\u001b[39;00m\n\u001b[0;32m    445\u001b[0m FigureCanvasAgg\u001b[38;5;241m.\u001b[39mdraw(\u001b[38;5;28mself\u001b[39m)\n\u001b[1;32m--> 446\u001b[0m mpl\u001b[38;5;241m.\u001b[39mimage\u001b[38;5;241m.\u001b[39mimsave(\n\u001b[0;32m    447\u001b[0m     filename_or_obj, \u001b[38;5;28mself\u001b[39m\u001b[38;5;241m.\u001b[39mbuffer_rgba(), \u001b[38;5;28mformat\u001b[39m\u001b[38;5;241m=\u001b[39mfmt, origin\u001b[38;5;241m=\u001b[39m\u001b[38;5;124m\"\u001b[39m\u001b[38;5;124mupper\u001b[39m\u001b[38;5;124m\"\u001b[39m,\n\u001b[0;32m    448\u001b[0m     dpi\u001b[38;5;241m=\u001b[39m\u001b[38;5;28mself\u001b[39m\u001b[38;5;241m.\u001b[39mfigure\u001b[38;5;241m.\u001b[39mdpi, metadata\u001b[38;5;241m=\u001b[39mmetadata, pil_kwargs\u001b[38;5;241m=\u001b[39mpil_kwargs)\n",
      "File \u001b[1;32mC:\\anaconda\\Lib\\site-packages\\matplotlib\\image.py:1656\u001b[0m, in \u001b[0;36mimsave\u001b[1;34m(fname, arr, vmin, vmax, cmap, format, origin, dpi, metadata, pil_kwargs)\u001b[0m\n\u001b[0;32m   1654\u001b[0m pil_kwargs\u001b[38;5;241m.\u001b[39msetdefault(\u001b[38;5;124m\"\u001b[39m\u001b[38;5;124mformat\u001b[39m\u001b[38;5;124m\"\u001b[39m, \u001b[38;5;28mformat\u001b[39m)\n\u001b[0;32m   1655\u001b[0m pil_kwargs\u001b[38;5;241m.\u001b[39msetdefault(\u001b[38;5;124m\"\u001b[39m\u001b[38;5;124mdpi\u001b[39m\u001b[38;5;124m\"\u001b[39m, (dpi, dpi))\n\u001b[1;32m-> 1656\u001b[0m image\u001b[38;5;241m.\u001b[39msave(fname, \u001b[38;5;241m*\u001b[39m\u001b[38;5;241m*\u001b[39mpil_kwargs)\n",
      "File \u001b[1;32mC:\\anaconda\\Lib\\site-packages\\PIL\\Image.py:2410\u001b[0m, in \u001b[0;36mImage.save\u001b[1;34m(self, fp, format, **params)\u001b[0m\n\u001b[0;32m   2408\u001b[0m         fp \u001b[38;5;241m=\u001b[39m builtins\u001b[38;5;241m.\u001b[39mopen(filename, \u001b[38;5;124m\"\u001b[39m\u001b[38;5;124mr+b\u001b[39m\u001b[38;5;124m\"\u001b[39m)\n\u001b[0;32m   2409\u001b[0m     \u001b[38;5;28;01melse\u001b[39;00m:\n\u001b[1;32m-> 2410\u001b[0m         fp \u001b[38;5;241m=\u001b[39m builtins\u001b[38;5;241m.\u001b[39mopen(filename, \u001b[38;5;124m\"\u001b[39m\u001b[38;5;124mw+b\u001b[39m\u001b[38;5;124m\"\u001b[39m)\n\u001b[0;32m   2412\u001b[0m \u001b[38;5;28;01mtry\u001b[39;00m:\n\u001b[0;32m   2413\u001b[0m     save_handler(\u001b[38;5;28mself\u001b[39m, fp, filename)\n",
      "\u001b[1;31mFileNotFoundError\u001b[0m: [Errno 2] No such file or directory: '/content/drive/MyDrive/Neural Network Soft Computing Assignment/Plots/Adam/Hidden layer 2/training_loss_plot_epochs1000_lr0.0008_Hidden_size128.png'"
     ]
    },
    {
     "data": {
      "image/png": "[encoded data removed]",
      "text/plain": [
       "<Figure size 640x480 with 1 Axes>"
      ]
     },
     "metadata": {},
     "output_type": "display_data"
    }
   ],
   "source": [
    "# Plot Training Loss vs. Epochs\n",
    "plt.plot(range(1, epochs+1), training_losses, label='Training Loss')\n",
    "plt.xlabel('Epochs')\n",
    "plt.ylabel('Loss')\n",
    "plt.legend()\n",
    "\n",
    "plt.annotate(f'LR={learning_rate}, Hidden Size={hidden_size}', xy=(0.5, 0), xytext=(0.5, -0.15),\n",
    "             xycoords='axes fraction', textcoords='axes fraction',\n",
    "             fontsize=8, ha='center', va='center', color='red')\n",
    "\n",
    "loss_plot_filename = f'C:/Users/Roshan/Downloads/drive-download-20231129T114955Z-001/New folder/training_loss_plot_epochs{epochs}_lr{learning_rate}_Hidden_size{hidden_size}.png'\n",
    "plt.savefig(loss_plot_filename)\n",
    "plt.show()\n",
    "\n",
    "# Plot Test Loss vs. Epochs\n",
    "plt.plot(range(1, epochs+1), test_losses, label='Test Loss')\n",
    "plt.xlabel('Epochs')\n",
    "plt.ylabel('Loss')\n",
    "plt.legend()\n",
    "\n",
    "plt.annotate(f'LR={learning_rate}, Hidden Size={hidden_size}', xy=(0.5, 0), xytext=(0.5, -0.15),\n",
    "             xycoords='axes fraction', textcoords='axes fraction',\n",
    "             fontsize=8, ha='center', va='center', color='red')\n",
    "\n",
    "loss_plot_filename = f'/content/drive/MyDrive/Neural Network Soft Computing Assignment/Plots/Adam/Hidden layer 2/test_loss_plot_epochs{epochs}_lr{learning_rate}_Hidden_size{hidden_size}.png'\n",
    "plt.savefig(loss_plot_filename)\n",
    "plt.show()\n",
    "\n",
    "\n",
    "# Plot Training Accuracy vs. Epochs\n",
    "plt.plot(range(1, epochs+1), training_accuracies, label='Training Accuracy')\n",
    "plt.xlabel('Epochs')\n",
    "plt.ylabel('Accuracy')\n",
    "plt.legend()\n",
    "\n",
    "plt.annotate(f'LR={learning_rate}, Hidden Size={hidden_size}', xy=(0.5, 0), xytext=(0.5, -0.15),\n",
    "             xycoords='axes fraction', textcoords='axes fraction',\n",
    "             fontsize=8, ha='center', va='center', color='red')\n",
    "\n",
    "# Save the plot to a file\n",
    "accuracy_plot_filename = f'/content/drive/MyDrive/Neural Network Soft Computing Assignment/Plots/Adam/Hidden layer 2/training_accuracy_plot_epochs{epochs}_lr{learning_rate}_Hidden_size{hidden_size}.png'\n",
    "plt.savefig(accuracy_plot_filename)\n",
    "plt.show()\n",
    "\n",
    "# Plot Test Accuracy vs. Epochs\n",
    "plt.plot(range(1, epochs+1), test_accuracies, label='Test Accuracy')\n",
    "plt.xlabel('Epochs')\n",
    "plt.ylabel('Accuracy')\n",
    "plt.legend()\n",
    "\n",
    "plt.annotate(f'LR={learning_rate}, Hidden Size={hidden_size}', xy=(0.5, 0), xytext=(0.5, -0.15),\n",
    "             xycoords='axes fraction', textcoords='axes fraction',\n",
    "             fontsize=8, ha='center', va='center', color='red')\n",
    "\n",
    "# Save the plot to a file\n",
    "accuracy_plot_filename = f'/content/drive/MyDrive/Neural Network Soft Computing Assignment/Plots/Adam/Hidden layer 2/test_accuracy_plot_epochs{epochs}_lr{learning_rate}_Hidden_size{hidden_size}.png'\n",
    "plt.savefig(accuracy_plot_filename)\n",
    "plt.show()\n"
   ]
  },
  {
   "cell_type": "code",
   "execution_count": null,
   "metadata": {
    "id": "AAnGNC5T-h_9"
   },
   "outputs": [],
   "source": []
  }
 ],
 "metadata": {
  "accelerator": "GPU",
  "colab": {
   "authorship_tag": "ABX9TyNZZ0Ga837lX7TUeUqaLf1/",
   "mount_file_id": "1cQxzZorjuehdgTpI1I63ldxKk_7Eusmd",
   "name": "",
   "provenance": [
    {
     "file_id": "1g9xRbxvdiD2U8m_a4WK_QhMFSCwlF1Ai",
     "timestamp": 1701074254020
    },
    {
     "file_id": "1CPyh3KJGaXuzT1zqyT4rTjXfbE2TE_xF",
     "timestamp": 1701061931075
    },
    {
     "file_id": "1GMFazvLYsP1A3rE_nIheNHtWsiBVHHJA",
     "timestamp": 1701019270596
    }
   ],
   "version": ""
  },
  "kernelspec": {
   "display_name": "Python 3 (ipykernel)",
   "language": "python",
   "name": "python3"
  },
  "language_info": {
   "codemirror_mode": {
    "name": "ipython",
    "version": 3
   },
   "file_extension": ".py",
   "mimetype": "text/x-python",
   "name": "python",
   "nbconvert_exporter": "python",
   "pygments_lexer": "ipython3",
   "version": "3.11.5"
  }
 },
 "nbformat": 4,
 "nbformat_minor": 1
}
